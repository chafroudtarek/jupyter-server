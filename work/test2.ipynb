{
 "cells": [
  {
   "cell_type": "code",
   "execution_count": 1,
   "id": "128e3611-d48d-4fcf-b00a-eaf1b79314b7",
   "metadata": {},
   "outputs": [
    {
     "name": "stdout",
     "output_type": "stream",
     "text": [
      "heelllo farouk\n"
     ]
    }
   ],
   "source": [
    "print(\"heelllo farouk\")"
   ]
  },
  {
   "cell_type": "code",
   "execution_count": 2,
   "id": "0f267fc7-2904-4f1d-b400-f09d89ede997",
   "metadata": {},
   "outputs": [
    {
     "name": "stdout",
     "output_type": "stream",
     "text": [
      "heelllogfgfgfarouk\n"
     ]
    }
   ],
   "source": [
    "print(\"heelllogfgfgfarouk\")\n"
   ]
  },
  {
   "cell_type": "code",
   "execution_count": null,
   "id": "bf1d0deb-c32b-43a9-b1d0-17d1193f75de",
   "metadata": {},
   "outputs": [],
   "source": []
  }
 ],
 "metadata": {
  "kernelspec": {
   "display_name": "Python 3 (ipykernel)",
   "language": "python",
   "name": "python3"
  },
  "language_info": {
   "codemirror_mode": {
    "name": "ipython",
    "version": 3
   },
   "file_extension": ".py",
   "mimetype": "text/x-python",
   "name": "python",
   "nbconvert_exporter": "python",
   "pygments_lexer": "ipython3",
   "version": "3.11.6"
  }
 },
 "nbformat": 4,
 "nbformat_minor": 5
}
